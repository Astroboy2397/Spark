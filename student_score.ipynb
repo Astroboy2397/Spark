{
 "cells": [
  {
   "cell_type": "markdown",
   "id": "9af41ed5",
   "metadata": {},
   "source": [
    "# Prediction of Scores using Supervised Machine Learning"
   ]
  },
  {
   "cell_type": "markdown",
   "id": "51f1418c",
   "metadata": {},
   "source": [
    "### Objective:\n",
    "- Predict the percentage of a student based on the no. of hours using Linear Regression algorithm"
   ]
  },
  {
   "cell_type": "markdown",
   "id": "9a8a73a2",
   "metadata": {},
   "source": [
    "## Table of Contents\n",
    "\n",
    "1. **[Import Libraries](#import_lib)**\n",
    "2. **[Read Data](#Read_Data)**\n",
    "3. **[Data Analysis](#data_preparation)**\n",
    "    - 3.1 - [Understand the Data](#Data_Understanding)\n",
    "        - 3.1.1 - [Data Dimension](#Data_Shape)\n",
    "        - 3.1.2 - [Data Types](#Data_Types)\n",
    "        - 3.1.3 - [Summary Statistics](#Summary_Statistics)\n",
    "        - 3.1.4 - [Missing Values](#Missing_Values)\n",
    "        - 3.1.5 - [Correlation](#correlation)\n",
    "        - 3.1.6 - [Discover Outliers](#outliers)\n",
    "    - 3.2 [Univariate Analysis](#univariate)\n",
    "    - 3.3 [Bivariate Analysis](#bivariate)\n",
    "4. **[Train-Test split](#train_test)**\n",
    "5. **[Linear Regression (training the model)](#linear_regression)**\n",
    "6. **[Predicting the percentage of a student based on the no. of hours](#predict)**\n",
    "7. **[Model Performance](#performmance)**"
   ]
  },
  {
   "cell_type": "markdown",
   "id": "56be3f4e",
   "metadata": {},
   "source": [
    "<a id='import_lib'></a>\n",
    "### 1.Importing required libraries"
   ]
  },
  {
   "cell_type": "code",
   "execution_count": 20,
   "id": "449107dc",
   "metadata": {},
   "outputs": [],
   "source": [
    "import numpy as np\n",
    "import pandas as pd\n",
    "import matplotlib.pyplot as plt\n",
    "import seaborn as sns\n",
    "from warnings import filterwarnings\n",
    "filterwarnings('ignore')\n",
    "%matplotlib inline\n",
    "\n",
    "from sklearn.linear_model import LinearRegression\n",
    "from sklearn.model_selection import train_test_split\n",
    "from sklearn.metrics import mean_squared_error\n",
    "from sklearn.metrics import mean_absolute_error"
   ]
  },
  {
   "cell_type": "markdown",
   "id": "cbe50a4b",
   "metadata": {},
   "source": [
    "<a id='Read_Data'></a>\n",
    "### 2.Understand the Dataset"
   ]
  },
  {
   "cell_type": "code",
   "execution_count": 3,
   "id": "702a2dd4",
   "metadata": {},
   "outputs": [
    {
     "data": {
      "text/html": [
       "<div>\n",
       "<style scoped>\n",
       "    .dataframe tbody tr th:only-of-type {\n",
       "        vertical-align: middle;\n",
       "    }\n",
       "\n",
       "    .dataframe tbody tr th {\n",
       "        vertical-align: top;\n",
       "    }\n",
       "\n",
       "    .dataframe thead th {\n",
       "        text-align: right;\n",
       "    }\n",
       "</style>\n",
       "<table border=\"1\" class=\"dataframe\">\n",
       "  <thead>\n",
       "    <tr style=\"text-align: right;\">\n",
       "      <th></th>\n",
       "      <th>Hours</th>\n",
       "      <th>Scores</th>\n",
       "    </tr>\n",
       "  </thead>\n",
       "  <tbody>\n",
       "    <tr>\n",
       "      <th>0</th>\n",
       "      <td>2.5</td>\n",
       "      <td>21</td>\n",
       "    </tr>\n",
       "    <tr>\n",
       "      <th>1</th>\n",
       "      <td>5.1</td>\n",
       "      <td>47</td>\n",
       "    </tr>\n",
       "    <tr>\n",
       "      <th>2</th>\n",
       "      <td>3.2</td>\n",
       "      <td>27</td>\n",
       "    </tr>\n",
       "    <tr>\n",
       "      <th>3</th>\n",
       "      <td>8.5</td>\n",
       "      <td>75</td>\n",
       "    </tr>\n",
       "    <tr>\n",
       "      <th>4</th>\n",
       "      <td>3.5</td>\n",
       "      <td>30</td>\n",
       "    </tr>\n",
       "    <tr>\n",
       "      <th>5</th>\n",
       "      <td>1.5</td>\n",
       "      <td>20</td>\n",
       "    </tr>\n",
       "    <tr>\n",
       "      <th>6</th>\n",
       "      <td>9.2</td>\n",
       "      <td>88</td>\n",
       "    </tr>\n",
       "    <tr>\n",
       "      <th>7</th>\n",
       "      <td>5.5</td>\n",
       "      <td>60</td>\n",
       "    </tr>\n",
       "    <tr>\n",
       "      <th>8</th>\n",
       "      <td>8.3</td>\n",
       "      <td>81</td>\n",
       "    </tr>\n",
       "    <tr>\n",
       "      <th>9</th>\n",
       "      <td>2.7</td>\n",
       "      <td>25</td>\n",
       "    </tr>\n",
       "  </tbody>\n",
       "</table>\n",
       "</div>"
      ],
      "text/plain": [
       "   Hours  Scores\n",
       "0    2.5      21\n",
       "1    5.1      47\n",
       "2    3.2      27\n",
       "3    8.5      75\n",
       "4    3.5      30\n",
       "5    1.5      20\n",
       "6    9.2      88\n",
       "7    5.5      60\n",
       "8    8.3      81\n",
       "9    2.7      25"
      ]
     },
     "execution_count": 3,
     "metadata": {},
     "output_type": "execute_result"
    }
   ],
   "source": [
    "#Reading the dataset\n",
    "df = pd.read_csv(\"http://bit.ly/w-data\")\n",
    "df.head(10)"
   ]
  },
  {
   "cell_type": "markdown",
   "id": "136ec5a0",
   "metadata": {},
   "source": [
    "<a id='data_preparation'></a>\n",
    "### 3. Data Analysis"
   ]
  },
  {
   "cell_type": "markdown",
   "id": "aa03f01b",
   "metadata": {},
   "source": [
    "<a id='Data_Shape'></a>\n",
    "#### 3.1.1 Data Dimension"
   ]
  },
  {
   "cell_type": "code",
   "execution_count": 4,
   "id": "0c26adc7",
   "metadata": {},
   "outputs": [
    {
     "data": {
      "text/plain": [
       "(25, 2)"
      ]
     },
     "execution_count": 4,
     "metadata": {},
     "output_type": "execute_result"
    }
   ],
   "source": [
    "#Number of rows and columns\n",
    "df.shape"
   ]
  },
  {
   "cell_type": "code",
   "execution_count": 9,
   "id": "e831fb95",
   "metadata": {},
   "outputs": [
    {
     "name": "stdout",
     "output_type": "stream",
     "text": [
      "<class 'pandas.core.frame.DataFrame'>\n",
      "RangeIndex: 25 entries, 0 to 24\n",
      "Data columns (total 2 columns):\n",
      " #   Column  Non-Null Count  Dtype  \n",
      "---  ------  --------------  -----  \n",
      " 0   Hours   25 non-null     float64\n",
      " 1   Scores  25 non-null     int64  \n",
      "dtypes: float64(1), int64(1)\n",
      "memory usage: 528.0 bytes\n"
     ]
    }
   ],
   "source": [
    "df.info()"
   ]
  },
  {
   "cell_type": "markdown",
   "id": "fb030465",
   "metadata": {},
   "source": [
    "<a id='Data_Types'></a>\n",
    "#### 3.1.2 Data Types"
   ]
  },
  {
   "cell_type": "code",
   "execution_count": 12,
   "id": "af420966",
   "metadata": {},
   "outputs": [
    {
     "data": {
      "text/plain": [
       "Hours     float64\n",
       "Scores      int64\n",
       "dtype: object"
      ]
     },
     "execution_count": 12,
     "metadata": {},
     "output_type": "execute_result"
    }
   ],
   "source": [
    "df.dtypes"
   ]
  },
  {
   "cell_type": "markdown",
   "id": "b6c4fa14",
   "metadata": {},
   "source": [
    "<a id='Summary_Statistics'></a>\n",
    "#### 3.1.3 Summary statistics"
   ]
  },
  {
   "cell_type": "code",
   "execution_count": 6,
   "id": "5bbcae2e",
   "metadata": {},
   "outputs": [
    {
     "data": {
      "text/html": [
       "<div>\n",
       "<style scoped>\n",
       "    .dataframe tbody tr th:only-of-type {\n",
       "        vertical-align: middle;\n",
       "    }\n",
       "\n",
       "    .dataframe tbody tr th {\n",
       "        vertical-align: top;\n",
       "    }\n",
       "\n",
       "    .dataframe thead th {\n",
       "        text-align: right;\n",
       "    }\n",
       "</style>\n",
       "<table border=\"1\" class=\"dataframe\">\n",
       "  <thead>\n",
       "    <tr style=\"text-align: right;\">\n",
       "      <th></th>\n",
       "      <th>count</th>\n",
       "      <th>mean</th>\n",
       "      <th>std</th>\n",
       "      <th>min</th>\n",
       "      <th>25%</th>\n",
       "      <th>50%</th>\n",
       "      <th>75%</th>\n",
       "      <th>max</th>\n",
       "    </tr>\n",
       "  </thead>\n",
       "  <tbody>\n",
       "    <tr>\n",
       "      <th>Hours</th>\n",
       "      <td>25.0</td>\n",
       "      <td>5.012</td>\n",
       "      <td>2.525094</td>\n",
       "      <td>1.1</td>\n",
       "      <td>2.7</td>\n",
       "      <td>4.8</td>\n",
       "      <td>7.4</td>\n",
       "      <td>9.2</td>\n",
       "    </tr>\n",
       "    <tr>\n",
       "      <th>Scores</th>\n",
       "      <td>25.0</td>\n",
       "      <td>51.480</td>\n",
       "      <td>25.286887</td>\n",
       "      <td>17.0</td>\n",
       "      <td>30.0</td>\n",
       "      <td>47.0</td>\n",
       "      <td>75.0</td>\n",
       "      <td>95.0</td>\n",
       "    </tr>\n",
       "  </tbody>\n",
       "</table>\n",
       "</div>"
      ],
      "text/plain": [
       "        count    mean        std   min   25%   50%   75%   max\n",
       "Hours    25.0   5.012   2.525094   1.1   2.7   4.8   7.4   9.2\n",
       "Scores   25.0  51.480  25.286887  17.0  30.0  47.0  75.0  95.0"
      ]
     },
     "execution_count": 6,
     "metadata": {},
     "output_type": "execute_result"
    }
   ],
   "source": [
    "df.describe().T"
   ]
  },
  {
   "cell_type": "markdown",
   "id": "44f07ce9",
   "metadata": {},
   "source": [
    "<a id='Missing_Values'></a>\n",
    "#### 3.1.4 Missing Values"
   ]
  },
  {
   "cell_type": "code",
   "execution_count": 14,
   "id": "796b39bd",
   "metadata": {},
   "outputs": [
    {
     "data": {
      "text/plain": [
       "Hours     0\n",
       "Scores    0\n",
       "dtype: int64"
      ]
     },
     "execution_count": 14,
     "metadata": {},
     "output_type": "execute_result"
    }
   ],
   "source": [
    "df.isna().sum()"
   ]
  },
  {
   "cell_type": "markdown",
   "id": "e586a386",
   "metadata": {},
   "source": [
    "<a id='correlation'></a>\n",
    "#### 3.1.5 Correlation"
   ]
  },
  {
   "cell_type": "code",
   "execution_count": 7,
   "id": "45f6d84a",
   "metadata": {},
   "outputs": [
    {
     "data": {
      "text/html": [
       "<div>\n",
       "<style scoped>\n",
       "    .dataframe tbody tr th:only-of-type {\n",
       "        vertical-align: middle;\n",
       "    }\n",
       "\n",
       "    .dataframe tbody tr th {\n",
       "        vertical-align: top;\n",
       "    }\n",
       "\n",
       "    .dataframe thead th {\n",
       "        text-align: right;\n",
       "    }\n",
       "</style>\n",
       "<table border=\"1\" class=\"dataframe\">\n",
       "  <thead>\n",
       "    <tr style=\"text-align: right;\">\n",
       "      <th></th>\n",
       "      <th>Hours</th>\n",
       "      <th>Scores</th>\n",
       "    </tr>\n",
       "  </thead>\n",
       "  <tbody>\n",
       "    <tr>\n",
       "      <th>Hours</th>\n",
       "      <td>1.000000</td>\n",
       "      <td>0.976191</td>\n",
       "    </tr>\n",
       "    <tr>\n",
       "      <th>Scores</th>\n",
       "      <td>0.976191</td>\n",
       "      <td>1.000000</td>\n",
       "    </tr>\n",
       "  </tbody>\n",
       "</table>\n",
       "</div>"
      ],
      "text/plain": [
       "           Hours    Scores\n",
       "Hours   1.000000  0.976191\n",
       "Scores  0.976191  1.000000"
      ]
     },
     "execution_count": 7,
     "metadata": {},
     "output_type": "execute_result"
    }
   ],
   "source": [
    "#Let's check the correlation\n",
    "df.corr()"
   ]
  },
  {
   "cell_type": "code",
   "execution_count": null,
   "id": "5a0b6fbf",
   "metadata": {},
   "outputs": [],
   "source": [
    "#Hours is highly correlated with Scores"
   ]
  },
  {
   "cell_type": "markdown",
   "id": "1ec8aace",
   "metadata": {},
   "source": [
    "<a id='outliers'></a>\n",
    "#### 3.1.6 Outliers"
   ]
  },
  {
   "cell_type": "code",
   "execution_count": 27,
   "id": "95112fc6",
   "metadata": {},
   "outputs": [],
   "source": [
    "#we can use boxplots to visualize the outliers\n",
    "def boxplot(data,col,size):\n",
    "    plt.figure(figsize=size)\n",
    "    sns.boxplot(data[col])\n",
    "    plt.title(col)\n",
    "    plt.show()"
   ]
  },
  {
   "cell_type": "code",
   "execution_count": 24,
   "id": "323b8afb",
   "metadata": {},
   "outputs": [
    {
     "data": {
      "image/png": "[encoded data removed]",
      "text/plain": [
       "<Figure size 504x216 with 1 Axes>"
      ]
     },
     "metadata": {
      "needs_background": "light"
     },
     "output_type": "display_data"
    }
   ],
   "source": [
    "boxplot(df,'Hours',(7,3))"
   ]
  },
  {
   "cell_type": "code",
   "execution_count": null,
   "id": "b1c47c1c",
   "metadata": {},
   "outputs": [],
   "source": [
    "#there are no outliers in hours column"
   ]
  },
  {
   "cell_type": "code",
   "execution_count": 25,
   "id": "3a1fefb5",
   "metadata": {},
   "outputs": [
    {
     "data": {
      "image/png": "[encoded data removed]",
      "text/plain": [
       "<Figure size 504x216 with 1 Axes>"
      ]
     },
     "metadata": {
      "needs_background": "light"
     },
     "output_type": "display_data"
    }
   ],
   "source": [
    "boxplot(df,'Scores',(7,3))"
   ]
  },
  {
   "cell_type": "code",
   "execution_count": 26,
   "id": "d605703a",
   "metadata": {},
   "outputs": [],
   "source": [
    "#there are no outliers in Scores column"
   ]
  },
  {
   "cell_type": "markdown",
   "id": "d2b98916",
   "metadata": {},
   "source": [
    "<a id='univariate'></a>\n",
    "### 3.2 Univariate Analysis"
   ]
  },
  {
   "cell_type": "code",
   "execution_count": 28,
   "id": "5e62d0b8",
   "metadata": {},
   "outputs": [],
   "source": [
    "def distplot(data,col,size):\n",
    "    plt.figure(figsize=size)\n",
    "    sns.distplot(data[col])\n",
    "    plt.title(col)\n",
    "    plt.show()"
   ]
  },
  {
   "cell_type": "code",
   "execution_count": 30,
   "id": "f8e8119c",
   "metadata": {},
   "outputs": [
    {
     "data": {
      "image/png": "[encoded data removed]",
      "text/plain": [
       "<Figure size 504x360 with 1 Axes>"
      ]
     },
     "metadata": {
      "needs_background": "light"
     },
     "output_type": "display_data"
    }
   ],
   "source": [
    "distplot(df,'Hours',(7,5))"
   ]
  },
  {
   "cell_type": "code",
   "execution_count": 31,
   "id": "5d25230f",
   "metadata": {},
   "outputs": [
    {
     "data": {
      "image/png": "[encoded data removed]",
      "text/plain": [
       "<Figure size 504x360 with 1 Axes>"
      ]
     },
     "metadata": {
      "needs_background": "light"
     },
     "output_type": "display_data"
    }
   ],
   "source": [
    "distplot(df,'Scores',(7,5))"
   ]
  },
  {
   "cell_type": "code",
   "execution_count": null,
   "id": "11a2dfba",
   "metadata": {},
   "outputs": [],
   "source": [
    "#Both variables are normally distributed"
   ]
  },
  {
   "cell_type": "markdown",
   "id": "8b07e3e8",
   "metadata": {},
   "source": [
    "<a id='bivariate'></a>\n",
    "### 3.3 Bivariate Analysis"
   ]
  },
  {
   "cell_type": "code",
   "execution_count": 47,
   "id": "b769583c",
   "metadata": {},
   "outputs": [],
   "source": [
    "#lets define a function to plot a scatterplot\n",
    "def scatter(data,x_col,y_col,size):\n",
    "    print(f'Scatter Plot for {x_col} vs {y_col}')\n",
    "    plt.figure(figsize=size)\n",
    "    sns.scatterplot(x=x_col,y=y_col,data=data)\n",
    "    plt.grid()\n",
    "    plt.show()"
   ]
  },
  {
   "cell_type": "code",
   "execution_count": 48,
   "id": "6193c6ae",
   "metadata": {
    "scrolled": true
   },
   "outputs": [
    {
     "name": "stdout",
     "output_type": "stream",
     "text": [
      "Scatter Plot for Hours vs Scores\n"
     ]
    },
    {
     "data": {
      "image/png": "[encoded data removed]",
      "text/plain": [
       "<Figure size 504x360 with 1 Axes>"
      ]
     },
     "metadata": {
      "needs_background": "light"
     },
     "output_type": "display_data"
    }
   ],
   "source": [
    "scatter(df,'Hours','Scores',(7,5))"
   ]
  },
  {
   "cell_type": "code",
   "execution_count": null,
   "id": "09be210a",
   "metadata": {},
   "outputs": [],
   "source": [
    "#Hours is positively correlated with scores"
   ]
  },
  {
   "cell_type": "code",
   "execution_count": 51,
   "id": "23352fde",
   "metadata": {},
   "outputs": [
    {
     "data": {
      "image/png": "[encoded data removed]",
      "text/plain": [
       "<Figure size 432x288 with 1 Axes>"
      ]
     },
     "metadata": {
      "needs_background": "light"
     },
     "output_type": "display_data"
    }
   ],
   "source": [
    "#regression plot\n",
    "sns.regplot(df['Hours'],df['Scores'])\n",
    "plt.show()"
   ]
  },
  {
   "cell_type": "markdown",
   "id": "48c0fca8",
   "metadata": {},
   "source": [
    "<a id='train_test'></a>\n",
    "### 4. Train Test Split"
   ]
  },
  {
   "cell_type": "code",
   "execution_count": 45,
   "id": "22bd491e",
   "metadata": {},
   "outputs": [
    {
     "name": "stdout",
     "output_type": "stream",
     "text": [
      "x_train Shape (20, 1)\n",
      "x_test Shape (5, 1)\n",
      "y_train Shape (20,)\n",
      "y_test Shape (5,)\n"
     ]
    }
   ],
   "source": [
    "X=df[['Hours']]\n",
    "y=df['Scores']\n",
    "x_train,x_test,y_train,y_test=train_test_split(X,y,test_size=0.2,random_state=0)\n",
    "x_train.shape,x_test.shape,y_train.shape,y_test.shape\n",
    "print('x_train Shape',x_train.shape)\n",
    "print('x_test Shape',x_test.shape)\n",
    "print('y_train Shape',y_train.shape)\n",
    "print('y_test Shape',y_test.shape)"
   ]
  },
  {
   "cell_type": "markdown",
   "id": "2cc853f2",
   "metadata": {},
   "source": [
    "<a id='linear_regression'></a>\n",
    "### 5. Linear Regression (Training the model)"
   ]
  },
  {
   "cell_type": "code",
   "execution_count": 52,
   "id": "642c7b8c",
   "metadata": {},
   "outputs": [
    {
     "data": {
      "text/plain": [
       "LinearRegression()"
      ]
     },
     "execution_count": 52,
     "metadata": {},
     "output_type": "execute_result"
    }
   ],
   "source": [
    "#training the model\n",
    "model=LinearRegression()\n",
    "model.fit(x_train,y_train)"
   ]
  },
  {
   "cell_type": "markdown",
   "id": "5ee45b25",
   "metadata": {},
   "source": [
    "<a id='predict'></a>\n",
    "### 6. What will be the predicted score if the students studied 9.25hours/day?"
   ]
  },
  {
   "cell_type": "code",
   "execution_count": 65,
   "id": "cb42b859",
   "metadata": {},
   "outputs": [
    {
     "data": {
      "text/plain": [
       "93.69"
      ]
     },
     "execution_count": 65,
     "metadata": {},
     "output_type": "execute_result"
    }
   ],
   "source": [
    "predicted_score=round(list(model.predict(pd.DataFrame({'Hours':[9.25]})))[0],2)\n",
    "predicted_score"
   ]
  },
  {
   "cell_type": "code",
   "execution_count": 79,
   "id": "4f5e5826",
   "metadata": {},
   "outputs": [
    {
     "name": "stdout",
     "output_type": "stream",
     "text": [
      "The Score of the students if they studied 9.25hours/day is: 93.69%\n"
     ]
    }
   ],
   "source": [
    "print(f'The Score of the students if they studied 9.25hours/day is: {predicted_score}%')"
   ]
  },
  {
   "cell_type": "code",
   "execution_count": 69,
   "id": "c5338b5b",
   "metadata": {},
   "outputs": [
    {
     "data": {
      "text/html": [
       "<div>\n",
       "<style scoped>\n",
       "    .dataframe tbody tr th:only-of-type {\n",
       "        vertical-align: middle;\n",
       "    }\n",
       "\n",
       "    .dataframe tbody tr th {\n",
       "        vertical-align: top;\n",
       "    }\n",
       "\n",
       "    .dataframe thead th {\n",
       "        text-align: right;\n",
       "    }\n",
       "</style>\n",
       "<table border=\"1\" class=\"dataframe\">\n",
       "  <thead>\n",
       "    <tr style=\"text-align: right;\">\n",
       "      <th></th>\n",
       "      <th>Hours</th>\n",
       "      <th>actual_scores</th>\n",
       "      <th>Predicted_scores</th>\n",
       "    </tr>\n",
       "  </thead>\n",
       "  <tbody>\n",
       "    <tr>\n",
       "      <th>5</th>\n",
       "      <td>1.5</td>\n",
       "      <td>20</td>\n",
       "      <td>16.88</td>\n",
       "    </tr>\n",
       "    <tr>\n",
       "      <th>2</th>\n",
       "      <td>3.2</td>\n",
       "      <td>27</td>\n",
       "      <td>33.73</td>\n",
       "    </tr>\n",
       "    <tr>\n",
       "      <th>19</th>\n",
       "      <td>7.4</td>\n",
       "      <td>69</td>\n",
       "      <td>75.36</td>\n",
       "    </tr>\n",
       "    <tr>\n",
       "      <th>16</th>\n",
       "      <td>2.5</td>\n",
       "      <td>30</td>\n",
       "      <td>26.79</td>\n",
       "    </tr>\n",
       "    <tr>\n",
       "      <th>11</th>\n",
       "      <td>5.9</td>\n",
       "      <td>62</td>\n",
       "      <td>60.49</td>\n",
       "    </tr>\n",
       "  </tbody>\n",
       "</table>\n",
       "</div>"
      ],
      "text/plain": [
       "    Hours  actual_scores  Predicted_scores\n",
       "5     1.5             20             16.88\n",
       "2     3.2             27             33.73\n",
       "19    7.4             69             75.36\n",
       "16    2.5             30             26.79\n",
       "11    5.9             62             60.49"
      ]
     },
     "execution_count": 69,
     "metadata": {},
     "output_type": "execute_result"
    }
   ],
   "source": [
    "#predicting the scores of test data\n",
    "predicted_scores_test_data=model.predict(x_test)\n",
    "predicted_scores_test_data=[round(val,2) for val in predicted_scores_test_data]\n",
    "df_predicted=pd.DataFrame({'Hours':x_test['Hours'],'actual_scores':y_test,'Predicted_scores':predicted_scores_test_data})\n",
    "df_predicted"
   ]
  },
  {
   "cell_type": "markdown",
   "id": "e7ab91f4",
   "metadata": {},
   "source": [
    "<a id='performmance'></a>\n",
    "### 7. Model Performance"
   ]
  },
  {
   "cell_type": "code",
   "execution_count": 70,
   "id": "a6bb4b6a",
   "metadata": {},
   "outputs": [],
   "source": [
    "from sklearn import metrics"
   ]
  },
  {
   "cell_type": "code",
   "execution_count": 77,
   "id": "82c32b7d",
   "metadata": {},
   "outputs": [
    {
     "name": "stdout",
     "output_type": "stream",
     "text": [
      "Mean Absolute Error of Train Data: 5.19\n",
      "Mean Absolute Error: Test Data 4.18\n",
      "\n",
      "\n",
      "Root Mean Squared Error of Train data: 5.56\n",
      "Root Mean Squared Error of Test data: 4.65\n"
     ]
    }
   ],
   "source": [
    "#Checking the Performace of the model\n",
    "ypred_train_lr=model.predict(x_train)\n",
    "ypred_test_lr=model.predict(x_test)\n",
    "train_rmse_lr=round(np.sqrt(mean_squared_error(y_train,ypred_train_lr)),2)\n",
    "test_rmse_lr=round(np.sqrt(mean_squared_error(y_test,ypred_test_lr)),2)\n",
    "print('Mean Absolute Error of Train Data:', round(metrics.mean_absolute_error(y_train,ypred_train_lr),2)) \n",
    "print('Mean Absolute Error: Test Data', round(metrics.mean_absolute_error(y_test,ypred_test_lr),2)) \n",
    "print('\\n')\n",
    "print(f'Root Mean Squared Error of Train data: {train_rmse_lr}')\n",
    "print(f'Root Mean Squared Error of Test data: {test_rmse_lr}')"
   ]
  }
 ],
 "metadata": {
  "kernelspec": {
   "display_name": "Python 3 (ipykernel)",
   "language": "python",
   "name": "python3"
  },
  "language_info": {
   "codemirror_mode": {
    "name": "ipython",
    "version": 3
   },
   "file_extension": ".py",
   "mimetype": "text/x-python",
   "name": "python",
   "nbconvert_exporter": "python",
   "pygments_lexer": "ipython3",
   "version": "3.9.5"
  }
 },
 "nbformat": 4,
 "nbformat_minor": 5
}
